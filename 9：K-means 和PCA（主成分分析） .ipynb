{
 "cells": [
  {
   "cell_type": "markdown",
   "metadata": {
    "id": "7B85A422319E4238BD2ACCD0874A51ED",
    "jupyter": {},
    "mdEditEnable": false,
    "slideshow": {
     "slide_type": "slide"
    },
    "tags": []
   },
   "source": [
    "# 1：K-means 和PCA（主成分分析）\n",
    "### **by:MLZZY**"
   ]
  },
  {
   "cell_type": "markdown",
   "metadata": {
    "id": "C5DB4D03C234427C85CF346F43C92D1E",
    "jupyter": {},
    "mdEditEnable": false,
    "slideshow": {
     "slide_type": "slide"
    },
    "tags": []
   },
   "source": [
    "实现K-means聚类，并利用它来压缩图像。 \n",
    "先从2维数据集开始，了解K-means是如何工作的；\n",
    "然后再将其应用于图像压缩。 \n",
    "对主成分分析进行实验，并了解如何使用它来找到面部图像的低维表示。"
   ]
  },
  {
   "cell_type": "markdown",
   "metadata": {
    "id": "4C30E880F13F4240BB4214B58F913447",
    "jupyter": {},
    "mdEditEnable": false,
    "slideshow": {
     "slide_type": "slide"
    },
    "tags": []
   },
   "source": [
    "## K-means 聚类"
   ]
  },
  {
   "cell_type": "code",
   "execution_count": 1,
   "metadata": {
    "id": "D8FDBC9F1B32452A880C17C92C149CCC",
    "jupyter": {},
    "scrolled": false,
    "slideshow": {
     "slide_type": "slide"
    },
    "tags": []
   },
   "outputs": [],
   "source": [
    "import numpy as np\n",
    "import pandas as pd\n",
    "import matplotlib.pyplot as plt\n",
    "import seaborn as sb\n",
    "from scipy.io import loadmat"
   ]
  },
  {
   "cell_type": "markdown",
   "metadata": {
    "id": "50731FFF556F4E8FB993D817C0511301",
    "jupyter": {},
    "mdEditEnable": false,
    "slideshow": {
     "slide_type": "slide"
    },
    "tags": []
   },
   "source": [
    "实现找到数据中每个实例最接近的聚类中心的函数。"
   ]
  },
  {
   "cell_type": "code",
   "execution_count": 2,
   "metadata": {
    "id": "20074618AABF43A59438C0621D31E529",
    "jupyter": {},
    "scrolled": false,
    "slideshow": {
     "slide_type": "slide"
    },
    "tags": []
   },
   "outputs": [],
   "source": [
    "def find_closest_centroids(X,centroids):\n",
    "    m=X.shape[0]\n",
    "    k=centroids.shape[0]\n",
    "    idx=np.zeros(m)\n",
    "    for i in range(m):\n",
    "        min_dist=1000000\n",
    "        for j in range(k):\n",
    "            dist=np.sum((X[i,:]-centroids[j,:])**2)\n",
    "            if dist<min_dist:\n",
    "                min_dist=dist\n",
    "                idx[i]=j\n",
    "    return idx"
   ]
  },
  {
   "cell_type": "code",
   "execution_count": 3,
   "metadata": {
    "id": "61ADC1B8F7FA44F4ACB864EA5D1363D8",
    "jupyter": {},
    "scrolled": false,
    "slideshow": {
     "slide_type": "slide"
    },
    "tags": []
   },
   "outputs": [
    {
     "data": {
      "text/plain": [
       "array([0., 2., 1., 0., 0., 0., 0., 0., 0., 0., 0., 0., 0., 0., 0., 0., 0.,\n",
       "       0., 0., 0., 0., 0., 0., 0., 0., 0., 0., 0., 0., 0., 0., 0., 0., 0.,\n",
       "       0., 0., 0., 0., 0., 0., 0., 0., 0., 0., 0., 0., 0., 0., 0., 0., 0.,\n",
       "       0., 0., 0., 0., 0., 0., 0., 0., 0., 0., 0., 0., 0., 0., 0., 0., 0.,\n",
       "       0., 0., 0., 0., 0., 0., 0., 0., 0., 0., 0., 0., 0., 0., 0., 0., 0.,\n",
       "       0., 0., 0., 0., 0., 0., 0., 0., 0., 0., 0., 0., 0., 0., 0., 0., 0.,\n",
       "       0., 0., 1., 0., 0., 0., 0., 1., 0., 0., 0., 1., 0., 0., 0., 0., 0.,\n",
       "       0., 0., 1., 0., 1., 1., 0., 0., 0., 0., 0., 0., 0., 0., 0., 0., 0.,\n",
       "       0., 0., 1., 0., 1., 0., 0., 0., 0., 1., 0., 0., 0., 0., 0., 0., 0.,\n",
       "       0., 0., 0., 0., 0., 0., 0., 0., 0., 0., 1., 0., 0., 0., 0., 0., 1.,\n",
       "       0., 0., 0., 1., 0., 0., 0., 0., 0., 0., 0., 0., 0., 0., 0., 0., 0.,\n",
       "       1., 0., 0., 0., 0., 0., 0., 0., 0., 1., 0., 0., 0., 1., 1., 1., 1.,\n",
       "       1., 1., 1., 1., 1., 1., 2., 1., 1., 1., 1., 1., 1., 1., 2., 1., 1.,\n",
       "       1., 1., 1., 1., 1., 1., 1., 1., 1., 1., 1., 1., 1., 1., 1., 1., 1.,\n",
       "       1., 0., 1., 0., 1., 2., 1., 2., 1., 1., 1., 1., 1., 1., 1., 1., 1.,\n",
       "       1., 1., 1., 1., 1., 1., 0., 1., 1., 1., 0., 1., 1., 1., 1., 1., 1.,\n",
       "       1., 0., 1., 1., 1., 0., 1., 1., 1., 1., 1., 1., 1., 1., 1., 1., 1.,\n",
       "       1., 1., 1., 1., 1., 1., 2., 1., 1., 1., 0.])"
      ]
     },
     "metadata": {},
     "output_type": "execute_result"
    }
   ],
   "source": [
    "data = loadmat('/home/mw/input/andrew_ml_ex78376/ex7data2.mat')\n",
    "X = data['X']\n",
    "initial_centroids=np.array([[3, 3], [6, 2], [8, 5]])\n",
    "idx = find_closest_centroids(X, initial_centroids)\n",
    "idx"
   ]
  },
  {
   "cell_type": "code",
   "execution_count": 4,
   "metadata": {
    "id": "4B379BCE6437439081ED8767B5514A73",
    "jupyter": {},
    "scrolled": false,
    "slideshow": {
     "slide_type": "slide"
    },
    "tags": []
   },
   "outputs": [
    {
     "data": {
      "text/html": [
       "<div>\n",
       "<style scoped>\n",
       "    .dataframe tbody tr th:only-of-type {\n",
       "        vertical-align: middle;\n",
       "    }\n",
       "\n",
       "    .dataframe tbody tr th {\n",
       "        vertical-align: top;\n",
       "    }\n",
       "\n",
       "    .dataframe thead th {\n",
       "        text-align: right;\n",
       "    }\n",
       "</style>\n",
       "<table border=\"1\" class=\"dataframe\">\n",
       "  <thead>\n",
       "    <tr style=\"text-align: right;\">\n",
       "      <th></th>\n",
       "      <th>X1</th>\n",
       "      <th>X2</th>\n",
       "    </tr>\n",
       "  </thead>\n",
       "  <tbody>\n",
       "    <tr>\n",
       "      <th>0</th>\n",
       "      <td>1.842080</td>\n",
       "      <td>4.607572</td>\n",
       "    </tr>\n",
       "    <tr>\n",
       "      <th>1</th>\n",
       "      <td>5.658583</td>\n",
       "      <td>4.799964</td>\n",
       "    </tr>\n",
       "    <tr>\n",
       "      <th>2</th>\n",
       "      <td>6.352579</td>\n",
       "      <td>3.290854</td>\n",
       "    </tr>\n",
       "    <tr>\n",
       "      <th>3</th>\n",
       "      <td>2.904017</td>\n",
       "      <td>4.612204</td>\n",
       "    </tr>\n",
       "    <tr>\n",
       "      <th>4</th>\n",
       "      <td>3.231979</td>\n",
       "      <td>4.939894</td>\n",
       "    </tr>\n",
       "  </tbody>\n",
       "</table>\n",
       "</div>"
      ],
      "text/plain": [
       "         X1        X2\n",
       "0  1.842080  4.607572\n",
       "1  5.658583  4.799964\n",
       "2  6.352579  3.290854\n",
       "3  2.904017  4.612204\n",
       "4  3.231979  4.939894"
      ]
     },
     "metadata": {},
     "output_type": "execute_result"
    }
   ],
   "source": [
    "data2=pd.DataFrame(data['X'],columns=['X1','X2'])\n",
    "data2.head()"
   ]
  },
  {
   "cell_type": "code",
   "execution_count": 5,
   "metadata": {
    "id": "8F15DE7452574CF185B98289F5A2B127",
    "jupyter": {},
    "scrolled": false,
    "slideshow": {
     "slide_type": "slide"
    },
    "tags": []
   },
   "outputs": [
    {
     "data": {
      "text/html": [
       "<img src=\"https://cdn.kesci.com/upload/rt/8F15DE7452574CF185B98289F5A2B127/r1kulxuvd2.png\">"
      ],
      "text/plain": [
       "<Figure size 360x360 with 1 Axes>"
      ]
     },
     "metadata": {},
     "output_type": "display_data"
    }
   ],
   "source": [
    "sb.set(context=\"notebook\",style=\"white\")\n",
    "sb.lmplot('X1','X2',data=data2,fit_reg=False)\n",
    "plt.show()"
   ]
  },
  {
   "cell_type": "markdown",
   "metadata": {
    "id": "949EFD91145344D798920A057A428E65",
    "jupyter": {},
    "mdEditEnable": false,
    "slideshow": {
     "slide_type": "slide"
    },
    "tags": []
   },
   "source": [
    "实现计算簇的聚类中心的函数。 聚类中心是当前分配给簇的所有样本的平均值。"
   ]
  },
  {
   "cell_type": "code",
   "execution_count": 6,
   "metadata": {
    "id": "9EB1599516E24EF18A90BA0D0381E93B",
    "jupyter": {},
    "scrolled": false,
    "slideshow": {
     "slide_type": "slide"
    },
    "tags": []
   },
   "outputs": [],
   "source": [
    "def compute_centroids(X,idx,k):\n",
    "    m,n=X.shape\n",
    "    centroids=np.zeros((k,n))\n",
    "    for i in range(k):\n",
    "        indices=np.where(idx==i)[0]\n",
    "        centroids[i,:]=(np.sum(X[indices,:],axis=0)/len(indices))\n",
    "    return centroids"
   ]
  },
  {
   "cell_type": "code",
   "execution_count": 7,
   "metadata": {
    "id": "F2FF3945576F4E05BB6EA1AD9F1C90AD",
    "jupyter": {},
    "scrolled": false,
    "slideshow": {
     "slide_type": "slide"
    },
    "tags": []
   },
   "outputs": [
    {
     "data": {
      "text/plain": [
       "array([[2.42830111, 3.15792418],\n",
       "       [5.81350331, 2.63365645],\n",
       "       [7.11938687, 3.6166844 ]])"
      ]
     },
     "metadata": {},
     "output_type": "execute_result"
    }
   ],
   "source": [
    "compute_centroids(X, idx, 3)"
   ]
  },
  {
   "cell_type": "code",
   "execution_count": 8,
   "metadata": {
    "id": "A1F699014CCB432999B52DB82F2A69D8",
    "jupyter": {},
    "scrolled": false,
    "slideshow": {
     "slide_type": "slide"
    },
    "tags": []
   },
   "outputs": [],
   "source": [
    "def run_k_means(X,initial_centroids,max_iters):\n",
    "    m,n=X.shape\n",
    "    k=initial_centroids.shape[0]\n",
    "    idx=np.zeros(m)\n",
    "    centroids=initial_centroids\n",
    "    for i in range(max_iters):\n",
    "        idx=find_closest_centroids(X,centroids)\n",
    "        centroids=compute_centroids(X,idx,k)\n",
    "    return idx,centroids"
   ]
  },
  {
   "cell_type": "code",
   "execution_count": 9,
   "metadata": {
    "id": "ADBA0FE9A6FC45948FF64573246BE4FF",
    "jupyter": {},
    "scrolled": false,
    "slideshow": {
     "slide_type": "slide"
    },
    "tags": []
   },
   "outputs": [],
   "source": [
    "idx, centroids = run_k_means(X, initial_centroids, 10)"
   ]
  },
  {
   "cell_type": "code",
   "execution_count": 10,
   "metadata": {
    "id": "04952910A0074D9D9AC8A736F0F81B99",
    "jupyter": {},
    "scrolled": false,
    "slideshow": {
     "slide_type": "slide"
    },
    "tags": []
   },
   "outputs": [
    {
     "data": {
      "text/html": [
       "<img src=\"https://cdn.kesci.com/upload/rt/04952910A0074D9D9AC8A736F0F81B99/r1kum7hm9i.png\">"
      ],
      "text/plain": [
       "<Figure size 864x576 with 1 Axes>"
      ]
     },
     "metadata": {},
     "output_type": "display_data"
    }
   ],
   "source": [
    "cluster1 = X[np.where(idx == 0)[0],:]\n",
    "cluster2 = X[np.where(idx == 1)[0],:]\n",
    "cluster3 = X[np.where(idx == 2)[0],:]\n",
    "fig, ax = plt.subplots(figsize=(12,8))\n",
    "ax.scatter(cluster1[:,0], cluster1[:,1], s=30, color='r', label='Cluster 1')\n",
    "ax.scatter(cluster2[:,0], cluster2[:,1], s=30, color='g', label='Cluster 2')\n",
    "ax.scatter(cluster3[:,0], cluster3[:,1], s=30, color='b', label='Cluster 3')\n",
    "ax.legend()\n",
    "plt.show()"
   ]
  },
  {
   "cell_type": "markdown",
   "metadata": {
    "id": "2DCC06FDCB694EF88BBCD8DC6CC6A727",
    "jupyter": {},
    "mdEditEnable": false,
    "slideshow": {
     "slide_type": "slide"
    },
    "tags": []
   },
   "source": [
    "以上还缺少初始化聚类中心的过程。下面实现随机选择样本并将其作为初始聚类中心的函数。"
   ]
  },
  {
   "cell_type": "code",
   "execution_count": 11,
   "metadata": {
    "id": "D3039FA84AC34CA583B8870EEA85332A",
    "jupyter": {},
    "scrolled": false,
    "slideshow": {
     "slide_type": "slide"
    },
    "tags": []
   },
   "outputs": [],
   "source": [
    "def init_centroids(X, k):\n",
    "    m, n = X.shape\n",
    "    centroids = np.zeros((k, n))\n",
    "    idx = np.random.randint(0, m, k)\n",
    "    for i in range(k):\n",
    "        centroids[i,:] = X[idx[i],:]\n",
    "    return centroids"
   ]
  },
  {
   "cell_type": "code",
   "execution_count": 12,
   "metadata": {
    "id": "ABD0822BBA0D4EE5815A7AAF8F4E0BA7",
    "jupyter": {},
    "scrolled": false,
    "slideshow": {
     "slide_type": "slide"
    },
    "tags": []
   },
   "outputs": [
    {
     "data": {
      "text/plain": [
       "array([[5.87655237, 3.21661109],\n",
       "       [2.17989333, 1.30879831],\n",
       "       [2.84734459, 0.26759253]])"
      ]
     },
     "metadata": {},
     "output_type": "execute_result"
    }
   ],
   "source": [
    "init_centroids(X, 3)"
   ]
  },
  {
   "cell_type": "markdown",
   "metadata": {
    "id": "0D55C1C2D74E4E63993552F527AD9477",
    "jupyter": {},
    "mdEditEnable": false,
    "slideshow": {
     "slide_type": "slide"
    },
    "tags": []
   },
   "source": [
    "下面将K-means用于图像压缩。\n",
    "可以使用聚类来找到最具代表性的少数颜色，并使用聚类分配将原始的24位颜色映射到较低维的颜色空间。 "
   ]
  },
  {
   "cell_type": "code",
   "execution_count": 13,
   "metadata": {
    "id": "D00D6D8C117A4D95A4618F3AD9832F1D",
    "jupyter": {},
    "scrolled": false,
    "slideshow": {
     "slide_type": "slide"
    },
    "tags": []
   },
   "outputs": [
    {
     "data": {
      "text/html": [
       "<img src=\"https://cdn.kesci.com/upload/rt/D00D6D8C117A4D95A4618F3AD9832F1D/r1kumd8jpv.png\">"
      ],
      "text/plain": [
       "<IPython.core.display.Image object>"
      ]
     },
     "metadata": {},
     "output_type": "execute_result"
    }
   ],
   "source": [
    "from IPython.display import Image\n",
    "Image(filename='/home/mw/input/andrew_ml_ex78376/bird_small.png')"
   ]
  },
  {
   "cell_type": "markdown",
   "metadata": {
    "id": "5CBBC2CC186044398DFAF234A190C00B",
    "jupyter": {},
    "mdEditEnable": false,
    "slideshow": {
     "slide_type": "slide"
    },
    "tags": []
   },
   "source": [
    "原始像素像素点数值"
   ]
  },
  {
   "cell_type": "code",
   "execution_count": 14,
   "metadata": {
    "id": "5599D3A5D9D24D8E97AEBB18F4632F2F",
    "jupyter": {},
    "scrolled": false,
    "slideshow": {
     "slide_type": "slide"
    },
    "tags": []
   },
   "outputs": [
    {
     "data": {
      "text/plain": [
       "{'__header__': b'MATLAB 5.0 MAT-file, Platform: GLNXA64, Created on: Tue Jun  5 04:06:24 2012',\n",
       " '__version__': '1.0',\n",
       " '__globals__': [],\n",
       " 'A': array([[[219, 180, 103],\n",
       "         [230, 185, 116],\n",
       "         [226, 186, 110],\n",
       "         ...,\n",
       "         [ 14,  15,  13],\n",
       "         [ 13,  15,  12],\n",
       "         [ 12,  14,  12]],\n",
       " \n",
       "        [[230, 193, 119],\n",
       "         [224, 192, 120],\n",
       "         [226, 192, 124],\n",
       "         ...,\n",
       "         [ 16,  16,  13],\n",
       "         [ 14,  15,  10],\n",
       "         [ 11,  14,   9]],\n",
       " \n",
       "        [[228, 191, 123],\n",
       "         [228, 191, 121],\n",
       "         [220, 185, 118],\n",
       "         ...,\n",
       "         [ 14,  16,  13],\n",
       "         [ 13,  13,  11],\n",
       "         [ 11,  15,  10]],\n",
       " \n",
       "        ...,\n",
       " \n",
       "        [[ 15,  18,  16],\n",
       "         [ 18,  21,  18],\n",
       "         [ 18,  19,  16],\n",
       "         ...,\n",
       "         [ 81,  45,  45],\n",
       "         [ 70,  43,  35],\n",
       "         [ 72,  51,  43]],\n",
       " \n",
       "        [[ 16,  17,  17],\n",
       "         [ 17,  18,  19],\n",
       "         [ 20,  19,  20],\n",
       "         ...,\n",
       "         [ 80,  38,  40],\n",
       "         [ 68,  39,  40],\n",
       "         [ 59,  43,  42]],\n",
       " \n",
       "        [[ 15,  19,  19],\n",
       "         [ 20,  20,  18],\n",
       "         [ 18,  19,  17],\n",
       "         ...,\n",
       "         [ 65,  43,  39],\n",
       "         [ 58,  37,  38],\n",
       "         [ 52,  39,  34]]], dtype=uint8)}"
      ]
     },
     "metadata": {},
     "output_type": "execute_result"
    }
   ],
   "source": [
    "image_data = loadmat('/home/mw/input/andrew_ml_ex78376/bird_small.mat')\n",
    "image_data"
   ]
  },
  {
   "cell_type": "code",
   "execution_count": 15,
   "metadata": {
    "id": "BF69026ABF2545B391940A47CB60203F",
    "jupyter": {},
    "scrolled": false,
    "slideshow": {
     "slide_type": "slide"
    },
    "tags": []
   },
   "outputs": [
    {
     "data": {
      "text/plain": [
       "(128, 128, 3)"
      ]
     },
     "metadata": {},
     "output_type": "execute_result"
    }
   ],
   "source": [
    "A = image_data['A']\n",
    "A.shape"
   ]
  },
  {
   "cell_type": "markdown",
   "metadata": {
    "id": "2AF54C0D38E442F488D9E22F65886E7E",
    "jupyter": {},
    "mdEditEnable": false,
    "slideshow": {
     "slide_type": "slide"
    },
    "tags": []
   },
   "source": [
    "对数据进行预处理，并将其提供给K-means算法。"
   ]
  },
  {
   "cell_type": "code",
   "execution_count": 16,
   "metadata": {
    "id": "C30100E5C433412EA915F1648F06E784",
    "jupyter": {},
    "scrolled": false,
    "slideshow": {
     "slide_type": "slide"
    },
    "tags": []
   },
   "outputs": [
    {
     "data": {
      "text/plain": [
       "(16384, 3)"
      ]
     },
     "metadata": {},
     "output_type": "execute_result"
    }
   ],
   "source": [
    "A = A / 255.\n",
    "X = np.reshape(A, (A.shape[0] * A.shape[1], A.shape[2]))\n",
    "X.shape"
   ]
  },
  {
   "cell_type": "code",
   "execution_count": 17,
   "metadata": {
    "id": "29279A30FB634FB9951A33B24B9626C3",
    "jupyter": {},
    "scrolled": false,
    "slideshow": {
     "slide_type": "slide"
    },
    "tags": []
   },
   "outputs": [
    {
     "data": {
      "text/plain": [
       "(16384, 3)"
      ]
     },
     "metadata": {},
     "output_type": "execute_result"
    }
   ],
   "source": [
    "initial_centroids = init_centroids(X, 16)\n",
    "idx, centroids = run_k_means(X, initial_centroids, 10)\n",
    "idx = find_closest_centroids(X, centroids)\n",
    "X_recovered = centroids[idx.astype(int),:]\n",
    "X_recovered.shape"
   ]
  },
  {
   "cell_type": "code",
   "execution_count": 18,
   "metadata": {
    "id": "0C23D032F112446685486E99B7D2ED39",
    "jupyter": {},
    "scrolled": false,
    "slideshow": {
     "slide_type": "slide"
    },
    "tags": []
   },
   "outputs": [
    {
     "data": {
      "text/plain": [
       "(128, 128, 3)"
      ]
     },
     "metadata": {},
     "output_type": "execute_result"
    }
   ],
   "source": [
    "X_recovered = np.reshape(X_recovered, (A.shape[0], A.shape[1], A.shape[2]))\n",
    "X_recovered.shape"
   ]
  },
  {
   "cell_type": "code",
   "execution_count": 19,
   "metadata": {
    "id": "440AEF70584B431C8091AD83EDD941B8",
    "jupyter": {},
    "scrolled": false,
    "slideshow": {
     "slide_type": "slide"
    },
    "tags": []
   },
   "outputs": [
    {
     "data": {
      "text/html": [
       "<img src=\"https://cdn.kesci.com/upload/rt/440AEF70584B431C8091AD83EDD941B8/r1kunbvagi.png\">"
      ],
      "text/plain": [
       "<Figure size 432x288 with 1 Axes>"
      ]
     },
     "metadata": {},
     "output_type": "display_data"
    }
   ],
   "source": [
    "plt.imshow(X_recovered)\n",
    "plt.show()"
   ]
  },
  {
   "cell_type": "markdown",
   "metadata": {
    "id": "06CF25D826584088A444A748F69729C3",
    "jupyter": {},
    "mdEditEnable": false,
    "slideshow": {
     "slide_type": "slide"
    },
    "tags": []
   },
   "source": [
    "由上图可知：使用K-means对图像进行压缩后，图像的主要特征仍然存在。\n",
    "下面使用scikit-learn实现K-means。"
   ]
  },
  {
   "cell_type": "code",
   "execution_count": 20,
   "metadata": {
    "id": "8369E06558B64B4B9F28584E9CCF5512",
    "jupyter": {},
    "scrolled": false,
    "slideshow": {
     "slide_type": "slide"
    },
    "tags": []
   },
   "outputs": [
    {
     "data": {
      "text/html": [
       "<img src=\"https://cdn.kesci.com/upload/rt/8369E06558B64B4B9F28584E9CCF5512/r1kunjoqni.png\">"
      ],
      "text/plain": [
       "<Figure size 432x288 with 1 Axes>"
      ]
     },
     "metadata": {},
     "output_type": "display_data"
    }
   ],
   "source": [
    "from skimage import io\n",
    "pic = io.imread('/home/mw/input/andrew_ml_ex78376/bird_small.png') / 255.\n",
    "io.imshow(pic)\n",
    "plt.show()"
   ]
  },
  {
   "cell_type": "code",
   "execution_count": 21,
   "metadata": {
    "id": "FC56E0DC9E384718897E8EC2B54BE5BB",
    "jupyter": {},
    "scrolled": false,
    "slideshow": {
     "slide_type": "slide"
    },
    "tags": []
   },
   "outputs": [
    {
     "data": {
      "text/plain": [
       "(128, 128, 3)"
      ]
     },
     "metadata": {},
     "output_type": "execute_result"
    }
   ],
   "source": [
    "pic.shape"
   ]
  },
  {
   "cell_type": "code",
   "execution_count": 22,
   "metadata": {
    "id": "A1EAB6FED7D2421B90FCB7865B0773DE",
    "jupyter": {},
    "scrolled": false,
    "slideshow": {
     "slide_type": "slide"
    },
    "tags": []
   },
   "outputs": [],
   "source": [
    "data = pic.reshape(128*128, 3)"
   ]
  },
  {
   "cell_type": "code",
   "execution_count": 23,
   "metadata": {
    "id": "03D37726EBE24DB0960A3192C34C0463",
    "jupyter": {},
    "scrolled": false,
    "slideshow": {
     "slide_type": "slide"
    },
    "tags": []
   },
   "outputs": [
    {
     "data": {
      "text/plain": [
       "(16384, 3)"
      ]
     },
     "metadata": {},
     "output_type": "execute_result"
    }
   ],
   "source": [
    "data.shape"
   ]
  },
  {
   "cell_type": "code",
   "execution_count": 24,
   "metadata": {
    "id": "90B6BC9C496543828B21C50867AAFBD5",
    "jupyter": {},
    "scrolled": false,
    "slideshow": {
     "slide_type": "slide"
    },
    "tags": []
   },
   "outputs": [],
   "source": [
    "from sklearn.cluster import KMeans\n",
    "# n_init：用不同的聚类中心初始化值运行算法的次数\n",
    "# n_jobs：整形数。　指定计算所用的进程数。内部原理是同时进行n_init指定次数的计算。\n",
    "#（１）若值为 -1，则用所有的CPU进行运算。若值为1，则不进行并行运算。\n",
    "#（２）若值小于-1，则用到的CPU数为(n_cpus + 1 + n_jobs)。因此如果 n_jobs值为-2，则用到的CPU数为总CPU数减1。\n",
    "model = KMeans(n_clusters=16, n_init=100, n_jobs=-1)"
   ]
  },
  {
   "cell_type": "code",
   "execution_count": 25,
   "metadata": {
    "id": "4B61FB69CB204FBD9D4EADE3FDEB1196",
    "jupyter": {},
    "scrolled": false,
    "slideshow": {
     "slide_type": "slide"
    },
    "tags": []
   },
   "outputs": [
    {
     "data": {
      "text/plain": [
       "KMeans(algorithm='auto', copy_x=True, init='k-means++', max_iter=300,\n",
       "       n_clusters=16, n_init=100, n_jobs=-1, precompute_distances='auto',\n",
       "       random_state=None, tol=0.0001, verbose=0)"
      ]
     },
     "metadata": {},
     "output_type": "execute_result"
    }
   ],
   "source": [
    "model.fit(data)"
   ]
  },
  {
   "cell_type": "code",
   "execution_count": 26,
   "metadata": {
    "id": "A21D1535EB344A97877BCCE32EC8FAFE",
    "jupyter": {},
    "scrolled": false,
    "slideshow": {
     "slide_type": "slide"
    },
    "tags": []
   },
   "outputs": [
    {
     "name": "stdout",
     "output_type": "stream",
     "text": [
      "(16, 3)\n",
      "(16384,)\n"
     ]
    }
   ],
   "source": [
    "centroids = model.cluster_centers_\n",
    "print(centroids.shape)\n",
    "C = model.predict(data)\n",
    "print(C.shape)"
   ]
  },
  {
   "cell_type": "code",
   "execution_count": 27,
   "metadata": {
    "id": "FE4CD52D364541C89FE7A379976880DE",
    "jupyter": {},
    "scrolled": false,
    "slideshow": {
     "slide_type": "slide"
    },
    "tags": []
   },
   "outputs": [
    {
     "data": {
      "text/plain": [
       "(16384, 3)"
      ]
     },
     "metadata": {},
     "output_type": "execute_result"
    }
   ],
   "source": [
    "centroids[C].shape"
   ]
  },
  {
   "cell_type": "code",
   "execution_count": 28,
   "metadata": {
    "id": "259E7C5F4A0C47F680CFDE196820CBD3",
    "jupyter": {},
    "scrolled": false,
    "slideshow": {
     "slide_type": "slide"
    },
    "tags": []
   },
   "outputs": [],
   "source": [
    "compressed_pic = centroids[C].reshape((128,128,3))"
   ]
  },
  {
   "cell_type": "code",
   "execution_count": 29,
   "metadata": {
    "id": "8617157DAED341E0B233F1D1F9F51101",
    "jupyter": {},
    "scrolled": false,
    "slideshow": {
     "slide_type": "slide"
    },
    "tags": []
   },
   "outputs": [
    {
     "data": {
      "text/html": [
       "<img src=\"https://cdn.kesci.com/upload/rt/8617157DAED341E0B233F1D1F9F51101/r1kuojmxyk.png\">"
      ],
      "text/plain": [
       "<Figure size 432x288 with 2 Axes>"
      ]
     },
     "metadata": {},
     "output_type": "display_data"
    }
   ],
   "source": [
    "fig, ax = plt.subplots(1, 2)\n",
    "ax[0].imshow(pic)\n",
    "ax[1].imshow(compressed_pic)\n",
    "plt.show()"
   ]
  },
  {
   "cell_type": "markdown",
   "metadata": {
    "id": "04230A760C1343C687C06E35D23E68EB",
    "jupyter": {},
    "mdEditEnable": false,
    "slideshow": {
     "slide_type": "slide"
    },
    "tags": []
   },
   "source": [
    "## Principal component analysis（主成分分析）"
   ]
  },
  {
   "cell_type": "markdown",
   "metadata": {
    "id": "F528DBEC6D754DDEB8FCDB5516D84A6D",
    "jupyter": {},
    "mdEditEnable": false,
    "slideshow": {
     "slide_type": "slide"
    },
    "tags": []
   },
   "source": [
    "实现PCA并将其应用于二维数据集"
   ]
  },
  {
   "cell_type": "code",
   "execution_count": 30,
   "metadata": {
    "id": "F4390C781EE545D9B6B394D8A5AD13AE",
    "jupyter": {},
    "scrolled": false,
    "slideshow": {
     "slide_type": "slide"
    },
    "tags": []
   },
   "outputs": [
    {
     "data": {
      "text/plain": [
       "{'__header__': b'MATLAB 5.0 MAT-file, Platform: PCWIN64, Created on: Mon Nov 14 22:41:44 2011',\n",
       " '__version__': '1.0',\n",
       " '__globals__': [],\n",
       " 'X': array([[3.38156267, 3.38911268],\n",
       "        [4.52787538, 5.8541781 ],\n",
       "        [2.65568187, 4.41199472],\n",
       "        [2.76523467, 3.71541365],\n",
       "        [2.84656011, 4.17550645],\n",
       "        [3.89067196, 6.48838087],\n",
       "        [3.47580524, 3.63284876],\n",
       "        [5.91129845, 6.68076853],\n",
       "        [3.92889397, 5.09844661],\n",
       "        [4.56183537, 5.62329929],\n",
       "        [4.57407171, 5.39765069],\n",
       "        [4.37173356, 5.46116549],\n",
       "        [4.19169388, 4.95469359],\n",
       "        [5.24408518, 4.66148767],\n",
       "        [2.8358402 , 3.76801716],\n",
       "        [5.63526969, 6.31211438],\n",
       "        [4.68632968, 5.6652411 ],\n",
       "        [2.85051337, 4.62645627],\n",
       "        [5.1101573 , 7.36319662],\n",
       "        [5.18256377, 4.64650909],\n",
       "        [5.70732809, 6.68103995],\n",
       "        [3.57968458, 4.80278074],\n",
       "        [5.63937773, 6.12043594],\n",
       "        [4.26346851, 4.68942896],\n",
       "        [2.53651693, 3.88449078],\n",
       "        [3.22382902, 4.94255585],\n",
       "        [4.92948801, 5.95501971],\n",
       "        [5.79295774, 5.10839305],\n",
       "        [2.81684824, 4.81895769],\n",
       "        [3.88882414, 5.10036564],\n",
       "        [3.34323419, 5.89301345],\n",
       "        [5.87973414, 5.52141664],\n",
       "        [3.10391912, 3.85710242],\n",
       "        [5.33150572, 4.68074235],\n",
       "        [3.37542687, 4.56537852],\n",
       "        [4.77667888, 6.25435039],\n",
       "        [2.6757463 , 3.73096988],\n",
       "        [5.50027665, 5.67948113],\n",
       "        [1.79709714, 3.24753885],\n",
       "        [4.3225147 , 5.11110472],\n",
       "        [4.42100445, 6.02563978],\n",
       "        [3.17929886, 4.43686032],\n",
       "        [3.03354125, 3.97879278],\n",
       "        [4.6093482 , 5.879792  ],\n",
       "        [2.96378859, 3.30024835],\n",
       "        [3.97176248, 5.40773735],\n",
       "        [1.18023321, 2.87869409],\n",
       "        [1.91895045, 5.07107848],\n",
       "        [3.95524687, 4.5053271 ],\n",
       "        [5.11795499, 6.08507386]])}"
      ]
     },
     "metadata": {},
     "output_type": "execute_result"
    }
   ],
   "source": [
    "data=loadmat('/home/mw/input/andrew_ml_ex78376/ex7data1.mat')\n",
    "data"
   ]
  },
  {
   "cell_type": "code",
   "execution_count": 31,
   "metadata": {
    "id": "C77ED27DB906456CBE1369412C7989C1",
    "jupyter": {},
    "scrolled": false,
    "slideshow": {
     "slide_type": "slide"
    },
    "tags": []
   },
   "outputs": [
    {
     "data": {
      "text/html": [
       "<img src=\"https://cdn.kesci.com/upload/rt/C77ED27DB906456CBE1369412C7989C1/r1kurcixml.png\">"
      ],
      "text/plain": [
       "<Figure size 864x576 with 1 Axes>"
      ]
     },
     "metadata": {},
     "output_type": "display_data"
    }
   ],
   "source": [
    "X=data['X']\n",
    "fig,ax=plt.subplots(figsize=(12,8))\n",
    "ax.scatter(X[:,0],X[:,1])\n",
    "plt.show()"
   ]
  },
  {
   "cell_type": "markdown",
   "metadata": {
    "id": "32C7FCB7C8484F638ACB2A3B4F504351",
    "jupyter": {},
    "mdEditEnable": false,
    "slideshow": {
     "slide_type": "slide"
    },
    "tags": []
   },
   "source": [
    "PCA算法很简单，在数据被归一化后，输出是原始数据的协方差矩阵的奇异值分解。"
   ]
  },
  {
   "cell_type": "code",
   "execution_count": 32,
   "metadata": {
    "id": "7B127A33B9824E1EA10E197E17958C08",
    "jupyter": {},
    "scrolled": false,
    "slideshow": {
     "slide_type": "slide"
    },
    "tags": []
   },
   "outputs": [],
   "source": [
    "def pca(X):\n",
    "    X=(X-X.mean())/X.std()\n",
    "    X=np.matrix(X)\n",
    "    cov=(X.T*X)/X.shape[0]\n",
    "    U,S,V=np.linalg.svd(cov)\n",
    "    return U,S,V"
   ]
  },
  {
   "cell_type": "code",
   "execution_count": 33,
   "metadata": {
    "id": "5D5DFE3F73FB4F408D98927023B4734D",
    "jupyter": {},
    "scrolled": false,
    "slideshow": {
     "slide_type": "slide"
    },
    "tags": []
   },
   "outputs": [
    {
     "data": {
      "text/plain": [
       "(matrix([[-0.79241747, -0.60997914],\n",
       "         [-0.60997914,  0.79241747]]),\n",
       " array([1.43584536, 0.56415464]),\n",
       " matrix([[-0.79241747, -0.60997914],\n",
       "         [-0.60997914,  0.79241747]]))"
      ]
     },
     "metadata": {},
     "output_type": "execute_result"
    }
   ],
   "source": [
    "U, S, V = pca(X)\n",
    "U, S, V"
   ]
  },
  {
   "cell_type": "markdown",
   "metadata": {
    "id": "3520D485BDA549BE9C5569D8F6B71344",
    "jupyter": {},
    "mdEditEnable": false,
    "slideshow": {
     "slide_type": "slide"
    },
    "tags": []
   },
   "source": [
    "现在得到主成分（矩阵U），可以用这些来将原始数据投影到一个较低维的空间中。 \n",
    "实现一个计算投影并且仅选择前K个分量的函数。"
   ]
  },
  {
   "cell_type": "code",
   "execution_count": 34,
   "metadata": {
    "id": "38C435D2550F42FBA3491BDD4CC1AEEC",
    "jupyter": {},
    "scrolled": false,
    "slideshow": {
     "slide_type": "slide"
    },
    "tags": []
   },
   "outputs": [],
   "source": [
    "def project_data(X,U,k):\n",
    "    U_reduced=U[:,:k]\n",
    "    return np.dot(X,U_reduced)"
   ]
  },
  {
   "cell_type": "code",
   "execution_count": 37,
   "metadata": {
    "id": "59810F25D36243759B2C91856B39FB65",
    "jupyter": {},
    "scrolled": false,
    "slideshow": {
     "slide_type": "slide"
    },
    "tags": []
   },
   "outputs": [
    {
     "data": {
      "text/plain": [
       "(50, 1)"
      ]
     },
     "metadata": {},
     "output_type": "execute_result"
    }
   ],
   "source": [
    "Z = project_data(X, U, 1)\n",
    "Z.shape"
   ]
  },
  {
   "cell_type": "markdown",
   "metadata": {
    "id": "F2C4A07572A84C42833D3AB46F66D310",
    "jupyter": {},
    "mdEditEnable": false,
    "slideshow": {
     "slide_type": "slide"
    },
    "tags": []
   },
   "source": [
    "可以通过反向转换恢复原始数据。"
   ]
  },
  {
   "cell_type": "code",
   "execution_count": 38,
   "metadata": {
    "id": "F60A5A3B345E407887B0560A46D90387",
    "jupyter": {},
    "scrolled": false,
    "slideshow": {
     "slide_type": "slide"
    },
    "tags": []
   },
   "outputs": [],
   "source": [
    "def recover_data(Z,U,k):\n",
    "    U_reduced=U[:,:k]\n",
    "    return np.dot(Z,U_reduced.T)"
   ]
  },
  {
   "cell_type": "code",
   "execution_count": 39,
   "metadata": {
    "id": "CF9B4F4567A1435A97C1C6D160F9B573",
    "jupyter": {},
    "scrolled": false,
    "slideshow": {
     "slide_type": "slide"
    },
    "tags": []
   },
   "outputs": [
    {
     "data": {
      "text/plain": [
       "matrix([[3.76152442, 2.89550838],\n",
       "        [5.67283275, 4.36677606],\n",
       "        [3.80014373, 2.92523637],\n",
       "        [3.53223661, 2.71900952],\n",
       "        [3.80569251, 2.92950765],\n",
       "        [5.57926356, 4.29474931],\n",
       "        [3.93851354, 3.03174929],\n",
       "        [6.94105849, 5.3430181 ],\n",
       "        [4.93142811, 3.79606507],\n",
       "        [5.58255993, 4.29728676],\n",
       "        [5.48117436, 4.21924319],\n",
       "        [5.38482148, 4.14507365],\n",
       "        [5.02696267, 3.8696047 ],\n",
       "        [5.54606249, 4.26919213],\n",
       "        [3.60199795, 2.77270971],\n",
       "        [6.58954104, 5.07243054],\n",
       "        [5.681006  , 4.37306758],\n",
       "        [4.02614513, 3.09920545],\n",
       "        [6.76785875, 5.20969415],\n",
       "        [5.50019161, 4.2338821 ],\n",
       "        [6.81311151, 5.24452836],\n",
       "        [4.56923815, 3.51726213],\n",
       "        [6.49947125, 5.00309752],\n",
       "        [4.94381398, 3.80559934],\n",
       "        [3.47034372, 2.67136624],\n",
       "        [4.41334883, 3.39726321],\n",
       "        [5.97375815, 4.59841938],\n",
       "        [6.10672889, 4.70077626],\n",
       "        [4.09805306, 3.15455801],\n",
       "        [4.90719483, 3.77741101],\n",
       "        [4.94773778, 3.80861976],\n",
       "        [6.36085631, 4.8963959 ],\n",
       "        [3.81339161, 2.93543419],\n",
       "        [5.61026298, 4.31861173],\n",
       "        [4.32622924, 3.33020118],\n",
       "        [6.02248932, 4.63593118],\n",
       "        [3.48356381, 2.68154267],\n",
       "        [6.19898705, 4.77179382],\n",
       "        [2.69816733, 2.07696807],\n",
       "        [5.18471099, 3.99103461],\n",
       "        [5.68860316, 4.37891565],\n",
       "        [4.14095516, 3.18758276],\n",
       "        [3.82801958, 2.94669436],\n",
       "        [5.73637229, 4.41568689],\n",
       "        [3.45624014, 2.66050973],\n",
       "        [5.10784454, 3.93186513],\n",
       "        [2.13253865, 1.64156413],\n",
       "        [3.65610482, 2.81435955],\n",
       "        [4.66128664, 3.58811828],\n",
       "        [6.1549641 , 4.73790627]])"
      ]
     },
     "metadata": {},
     "output_type": "execute_result"
    }
   ],
   "source": [
    "X_recovered = recover_data(Z, U, 1)\n",
    "X_recovered"
   ]
  },
  {
   "cell_type": "code",
   "execution_count": 40,
   "metadata": {
    "id": "98BCA1116936434D85AA63E2BBA855D5",
    "jupyter": {},
    "scrolled": false,
    "slideshow": {
     "slide_type": "slide"
    },
    "tags": []
   },
   "outputs": [
    {
     "data": {
      "text/html": [
       "<img src=\"https://cdn.kesci.com/upload/rt/98BCA1116936434D85AA63E2BBA855D5/r1kvjx4w29.png\">"
      ],
      "text/plain": [
       "<Figure size 864x576 with 1 Axes>"
      ]
     },
     "metadata": {},
     "output_type": "display_data"
    }
   ],
   "source": [
    "fig, ax = plt.subplots(figsize=(12,8))\n",
    "ax.scatter(list(X_recovered[:, 0]), list(X_recovered[:, 1]))\n",
    "plt.show()"
   ]
  },
  {
   "cell_type": "markdown",
   "metadata": {
    "id": "7F4E5005483D448580D7A1AE19E4673E",
    "jupyter": {},
    "mdEditEnable": false,
    "slideshow": {
     "slide_type": "slide"
    },
    "tags": []
   },
   "source": [
    "将PCA应用于脸部图像，使用比原始图像少得多的数据来获取图像的“本质”。"
   ]
  },
  {
   "cell_type": "code",
   "execution_count": 41,
   "metadata": {
    "id": "FE56D729A8A94EC38B34C6EB335C14C7",
    "jupyter": {},
    "scrolled": false,
    "slideshow": {
     "slide_type": "slide"
    },
    "tags": []
   },
   "outputs": [
    {
     "data": {
      "text/plain": [
       "(5000, 1024)"
      ]
     },
     "metadata": {},
     "output_type": "execute_result"
    }
   ],
   "source": [
    "faces=loadmat('/home/mw/input/andrew_ml_ex78376/ex7faces.mat')\n",
    "X=faces['X']\n",
    "X.shape"
   ]
  },
  {
   "cell_type": "code",
   "execution_count": 44,
   "metadata": {
    "id": "8BFEE0A6A5B74128836F5018453A6DDA",
    "jupyter": {},
    "scrolled": false,
    "slideshow": {
     "slide_type": "slide"
    },
    "tags": []
   },
   "outputs": [],
   "source": [
    "def plot_n_image(X,n):\n",
    "    pic_size=int(np.sqrt(X.shape[1]))\n",
    "    grid_size=int(np.sqrt(n))\n",
    "    first_n_images=X[:n,:]\n",
    "    fig, ax_array = plt.subplots(nrows=grid_size, ncols=grid_size,sharey=True, sharex=True, figsize=(8, 8))\n",
    "    for r in range(grid_size):\n",
    "        for c in range(grid_size):\n",
    "            ax_array[r,c].imshow(first_n_images[grid_size*r+c].reshape((pic_size,pic_size)).T)\n",
    "            plt.xticks(np.array([]))\n",
    "            plt.yticks(np.array([]))"
   ]
  },
  {
   "cell_type": "code",
   "execution_count": 45,
   "metadata": {
    "id": "30BADAE2B078470E94392182550552DF",
    "jupyter": {},
    "notebookId": "61776f71768f3b0017852163",
    "scrolled": false,
    "slideshow": {
     "slide_type": "slide"
    },
    "tags": []
   },
   "outputs": [
    {
     "data": {
      "text/html": [
       "<img src=\"https://cdn.kesci.com/upload/rt/30BADAE2B078470E94392182550552DF/r1kw5asnzq.png\">"
      ],
      "text/plain": [
       "<Figure size 576x576 with 25 Axes>"
      ]
     },
     "metadata": {},
     "output_type": "display_data"
    }
   ],
   "source": [
    "plot_n_image(X,25)"
   ]
  },
  {
   "cell_type": "code",
   "execution_count": 51,
   "metadata": {
    "id": "6CACC3EFA7934227940BADCD72069FDA",
    "jupyter": {},
    "scrolled": false,
    "slideshow": {
     "slide_type": "slide"
    },
    "tags": []
   },
   "outputs": [],
   "source": [
    "face = np.reshape(X[0,:], (32, 32))"
   ]
  },
  {
   "cell_type": "code",
   "execution_count": 52,
   "metadata": {
    "id": "87146CB760BE4D87AB64B61D757FD743",
    "jupyter": {},
    "scrolled": false,
    "slideshow": {
     "slide_type": "slide"
    },
    "tags": []
   },
   "outputs": [
    {
     "data": {
      "text/html": [
       "<img src=\"https://cdn.kesci.com/upload/rt/87146CB760BE4D87AB64B61D757FD743/r1kw8qmdmx.png\">"
      ],
      "text/plain": [
       "<Figure size 432x288 with 1 Axes>"
      ]
     },
     "metadata": {},
     "output_type": "display_data"
    }
   ],
   "source": [
    "plt.imshow(face)\n",
    "plt.show()"
   ]
  },
  {
   "cell_type": "markdown",
   "metadata": {
    "id": "C64C3F50CC464E9CA73FC9595E10D418",
    "jupyter": {},
    "mdEditEnable": false,
    "slideshow": {
     "slide_type": "slide"
    },
    "tags": []
   },
   "source": [
    "在人脸数据集上运行PCA，并获取前100个主要特征。"
   ]
  },
  {
   "cell_type": "code",
   "execution_count": 53,
   "metadata": {
    "id": "1B623108587547C0B7FF7E055E38D59A",
    "jupyter": {},
    "scrolled": false,
    "slideshow": {
     "slide_type": "slide"
    },
    "tags": []
   },
   "outputs": [],
   "source": [
    "U, S, V = pca(X)\n",
    "Z = project_data(X, U, 100)"
   ]
  },
  {
   "cell_type": "markdown",
   "metadata": {
    "id": "23731E732BDF4865B292F2FE8F363E72",
    "jupyter": {},
    "mdEditEnable": false,
    "slideshow": {
     "slide_type": "slide"
    },
    "tags": []
   },
   "source": [
    "恢复原来的结构并再次渲染。"
   ]
  },
  {
   "cell_type": "code",
   "execution_count": 55,
   "metadata": {
    "id": "A8EF1E8B1E3E4524827B87222D56B321",
    "jupyter": {},
    "scrolled": false,
    "slideshow": {
     "slide_type": "slide"
    },
    "tags": []
   },
   "outputs": [
    {
     "data": {
      "text/html": [
       "<img src=\"https://cdn.kesci.com/upload/rt/A8EF1E8B1E3E4524827B87222D56B321/r1kwb292g3.png\">"
      ],
      "text/plain": [
       "<Figure size 432x288 with 1 Axes>"
      ]
     },
     "metadata": {},
     "output_type": "display_data"
    }
   ],
   "source": [
    "X_recovered = recover_data(Z, U, 100)\n",
    "face = np.reshape(X_recovered[0,:], (32, 32))\n",
    "plt.imshow(face)\n",
    "plt.show()"
   ]
  }
 ],
 "metadata": {
  "kernelspec": {
   "display_name": "Python 3 (ipykernel)",
   "language": "python",
   "name": "python3"
  },
  "language_info": {
   "codemirror_mode": {
    "name": "ipython",
    "version": 3
   },
   "file_extension": ".py",
   "mimetype": "text/x-python",
   "name": "python",
   "nbconvert_exporter": "python",
   "pygments_lexer": "ipython3",
   "version": "3.9.7"
  }
 },
 "nbformat": 4,
 "nbformat_minor": 1
}
